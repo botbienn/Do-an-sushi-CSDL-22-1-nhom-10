{
 "cells": [
  {
   "cell_type": "code",
   "execution_count": null,
   "metadata": {},
   "outputs": [],
   "source": [
    "import pandas as pd \n",
    "\n",
    "import os\n",
    "DATA_PATH = './datas/'\n",
    "OUTPUT_FILE_PATH = '../main SQL/schemas/add_data.sql'\n",
    "FILE_ORDER = ['khach_hang', '']"
   ]
  },
  {
   "cell_type": "code",
   "execution_count": 94,
   "metadata": {},
   "outputs": [],
   "source": [
    "def read_and_convert(): \n",
    "    output_file = open(OUTPUT_FILE_PATH, 'w+')\n",
    "    \n",
    "    # Specify the directory you want to scan\n",
    "    folder_path = './datas'\n",
    "    table_names = []\n",
    "\n",
    "    # Iterate over all files in the folder\n",
    "    for filename in os.listdir(folder_path):\n",
    "        # Get the full path to the file\n",
    "        table_names.append(filename[:-4])\n",
    "        df = pd.read_csv(folder_path + '/' + filename, encoding='utf-8')\n",
    "        attributes = df.columns.tolist()\n",
    "        # print(filename[:-4])\n",
    "        # print(attributes) \n",
    "        output_file.writelines(f'INSERT INTO {filename[:-4]}({', '.join(attributes)}) VALUES\\n')\n",
    "        for i, row in enumerate(df.iloc):\n",
    "            clean_row = [x if str(x) != 'nan' else '' for x in row.tolist() ]\n",
    "            print(clean_row)\n",
    "            if i == len(df.index) - 1:\n",
    "                output_file.write(f'(\\'{'\\', \\''.join(map(str,clean_row))}\\')\\n')\n",
    "            else: \n",
    "                output_file.write(f'(\\'{'\\', \\''.join(map(str, clean_row))}\\'),\\n')\n",
    "            # print((row.tolist()))\n",
    "        # file_path = os.path.join(folder_path, filename)\n",
    "        output_file.write('\\n') \n",
    "        # # Check if it's a file (not a subdirectory)\n",
    "        # if os.path.isfile(file_path):\n",
    "        #     print(file_path)\n",
    "    output_file.close()\n"
   ]
  },
  {
   "cell_type": "code",
   "execution_count": 95,
   "metadata": {},
   "outputs": [
    {
     "name": "stdout",
     "output_type": "stream",
     "text": [
      "['MM001', 'Goi ngo sen tom thit', np.int64(120000), 'Mon khai vi']\n",
      "['MM002', 'Sup cua', np.int64(150000), 'Mon khai vi']\n",
      "['MM003', 'Cha gio', np.int64(70000), 'Mon khai vi']\n",
      "['MM004', 'Lau thai', np.int64(250000), 'Mon chinh']\n",
      "['MM005', 'Lau thai', np.int64(250000), 'Mon chinh']\n",
      "['MP001', np.int64(1)]\n",
      "['MP002', np.int64(2)]\n",
      "['MP005', '09:34:00', '00:05:00']\n",
      "['NV001', np.int64(1), '03/20/2023', '10/01/2024']\n",
      "['NV002', np.int64(2), '01/01/2021', '10/01/2023']\n",
      "['NV003', np.int64(3), '03/01/2022', '01/01/2024']\n",
      "['NV004', np.int64(4), '11/20/2020', '10/01/2022']\n",
      "['NV005', np.int64(5), '10/01/2021', '08/30/2023']\n",
      "[np.float64(111111000000.0), 'Nguyễn Văn A', np.int64(1111111111), 'danh@gmail.com', 'Nam']\n",
      "[np.float64(111111000000.0), 'Nguyễn Văn B', np.int64(1111111112), 'danh2@gmail.com', 'Nam']\n",
      "[np.float64(111111000000.0), 'Nguyễn Văn C', np.int64(1111111113), 'danh3@gmail.com', 'Nam']\n",
      "[np.float64(111111000000.0), 'Nguyễn Văn D', np.int64(1111111114), 'danh4@gmail.com', 'Nam']\n",
      "[np.int64(1), 'MA001']\n",
      "[np.int64(1), 'MA002']\n",
      "[np.int64(2), 'MA001']\n",
      "[np.int64(2), 'MA002']\n",
      "[np.int64(2), 'MA003']\n",
      "['Le tan', np.int64(8000000)]\n",
      "['Bep', np.int64(10000000)]\n",
      "['Phuc vu', np.int64(7000000)]\n",
      "['Ve sinh', np.int64(5000000)]\n",
      "['Quan ly', np.int64(15000000)]\n",
      "['MP001', '2024-04-20', np.int64(1), 'NV1', np.int64(123456789123)]\n",
      "['MP002', '2024-04-21', np.int64(1), 'NV1', np.int64(123456789124)]\n",
      "['MP003', '2024-04-22', np.int64(2), 'NV1', np.int64(123456789125)]\n",
      "['MP004', '2024-04-23', np.int64(2), 'NV1', np.int64(123456789126)]\n",
      "['MP005', '2024-04-24', np.int64(1), 'NV2', np.int64(123456789127)]\n",
      "['Khu vuc 1']\n",
      "['Khu vuc 2']\n",
      "['Khu vuc 3']\n",
      "['Khu vuc 4']\n",
      "['Khu vuc 5']\n",
      "['MA001', 'GOLD', np.int64(50), np.int64(100), np.int64(1)]\n",
      "['MA002', 'GOLD', np.int64(50), np.int64(100), np.int64(1)]\n",
      "['MA003', 'SIVLER', np.int64(20), np.int64(40), np.int64(1)]\n",
      "['MA004', 'SIVLER', np.int64(20), np.int64(40), np.int64(1)]\n",
      "['NV001', np.int64(355390893)]\n",
      "['NV002', np.int64(802212872)]\n",
      "['NV003', np.int64(325131893)]\n",
      "['NV004', np.int64(912021753)]\n",
      "['NV005', np.int64(832702306)]\n",
      "['MP003', np.int64(3), np.int64(7), '15:00:00', 'Co the den tre']\n",
      "['MP004', np.int64(1), np.int64(8), '08:45:00', 'Co the den tre']\n",
      "['MA001', '1/1/1999', '1/1/2000']\n",
      "['MA002', '2/1/1999', '2/1/2000']\n",
      "['MA003', '3/1/1999', '3/1/2000']\n",
      "['MA004', '4/1/1999', '4/1/2000']\n",
      "['NV001', 'Nguyen Van F', np.int64(123), 'Duong G', 'Quan 1', 'TP.HCM', '1990-01-01', 'Nam', 'BP005', 'CN001']\n",
      "['NV002', 'Le Thi H', np.int64(456), 'Duong H', 'Quan 2', 'TP.HCM', '1992-05-05', 'Nu', 'BP003', 'CN002']\n",
      "['NV003', 'Pham Van I', np.int64(789), 'Duong I', 'Quan 3', 'TP.HCM', '1994-09-09', 'Nam', 'BP002', 'CN003']\n",
      "['NV004', 'Tran Thi J', np.int64(101), 'Duong J', 'Quan 4', 'TP.HCM', '1996-12-12', 'Nu', 'BP004', 'CN004']\n",
      "['NV005', 'Ngo Van K', np.int64(202), 'Duong K', 'Quan 5', 'TP.HCM', '1988-08-08', 'Nam', 'BP001', 'CN005']\n",
      "['Chi nhanh 1', '123 Duong A, Quan 1, TP.HCM', '8:00:00', '22:00:00', np.int64(281234567), np.int64(1), np.int64(1), np.int64(0), 'NV001', 'KV001']\n",
      "['Chi nhanh 2', '456 Duong B, Quan 2, TP.HCM', '9:00:00', '23:00:00', np.int64(282234567), np.int64(1), np.int64(1), np.int64(1), 'NV002', 'KV002']\n",
      "['Chi nhanh 3', '789 Duong C, Quan 3, TP.HCM', '7:30:00', '21:30:00', np.int64(283234567), np.int64(1), np.int64(0), np.int64(0), 'NV003', 'KV003']\n",
      "['Chi nhanh 4', '101 Duong D, Quan 4, TP.HCM', '8:00:00', '22:00:00', np.int64(284234567), np.int64(1), np.int64(1), np.int64(1), 'NV004', 'KV004']\n",
      "['Chi nhanh 5', '202 Duong E, Quan 5, TP.HCM', '8:30:00', '22:30:00', np.int64(285234567), np.int64(1), np.int64(1), np.int64(0), 'NV005', 'KV005']\n"
     ]
    }
   ],
   "source": [
    "read_and_convert()"
   ]
  },
  {
   "cell_type": "code",
   "execution_count": null,
   "metadata": {},
   "outputs": [],
   "source": []
  }
 ],
 "metadata": {
  "kernelspec": {
   "display_name": "base",
   "language": "python",
   "name": "python3"
  },
  "language_info": {
   "codemirror_mode": {
    "name": "ipython",
    "version": 3
   },
   "file_extension": ".py",
   "mimetype": "text/x-python",
   "name": "python",
   "nbconvert_exporter": "python",
   "pygments_lexer": "ipython3",
   "version": "3.12.2"
  }
 },
 "nbformat": 4,
 "nbformat_minor": 2
}
