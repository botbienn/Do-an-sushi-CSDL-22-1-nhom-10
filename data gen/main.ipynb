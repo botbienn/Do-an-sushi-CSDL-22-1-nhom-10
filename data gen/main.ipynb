{
 "cells": [
  {
   "cell_type": "code",
   "execution_count": 4,
   "metadata": {},
   "outputs": [],
   "source": [
    "import pandas as pd \n",
    "\n",
    "import os\n",
    "DATA_PATH = './datas/'"
   ]
  },
  {
   "cell_type": "code",
   "execution_count": 13,
   "metadata": {},
   "outputs": [],
   "source": [
    "def read_and_convert(): \n",
    "\n",
    "    # Specify the directory you want to scan\n",
    "    folder_path = './datas'\n",
    "\n",
    "    # Iterate over all files in the folder\n",
    "    for filename in os.listdir(folder_path):\n",
    "        # Get the full path to the file\n",
    "        print(filename[:-4])\n",
    "        # file_path = os.path.join(folder_path, filename)\n",
    "        \n",
    "        # # Check if it's a file (not a subdirectory)\n",
    "        # if os.path.isfile(file_path):\n",
    "        #     print(file_path)\n"
   ]
  },
  {
   "cell_type": "code",
   "execution_count": 14,
   "metadata": {},
   "outputs": [
    {
     "name": "stdout",
     "output_type": "stream",
     "text": [
      "mon_an\n",
      "order_tai_cho\n",
      "giao_hang\n",
      "lich_su_lam_viec\n",
      "khach_hang\n",
      "mon_an_khu_vuc\n",
      "bo_phan\n",
      "order\n",
      "khu_vuc\n",
      "giam_gia\n",
      "dien_thoai_nhan_vien\n",
      "dat_ban_online\n",
      "chuong_trinh\n",
      "nhan_vien\n",
      "tham_gia_chuong_trinh\n",
      "chi_nhanh\n"
     ]
    }
   ],
   "source": [
    "read_and_convert()"
   ]
  }
 ],
 "metadata": {
  "kernelspec": {
   "display_name": "base",
   "language": "python",
   "name": "python3"
  },
  "language_info": {
   "codemirror_mode": {
    "name": "ipython",
    "version": 3
   },
   "file_extension": ".py",
   "mimetype": "text/x-python",
   "name": "python",
   "nbconvert_exporter": "python",
   "pygments_lexer": "ipython3",
   "version": "3.12.2"
  }
 },
 "nbformat": 4,
 "nbformat_minor": 2
}
