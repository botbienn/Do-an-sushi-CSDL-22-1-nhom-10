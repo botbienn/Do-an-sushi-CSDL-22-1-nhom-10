{
 "cells": [
  {
   "cell_type": "code",
   "execution_count": 47,
   "metadata": {},
   "outputs": [],
   "source": [
    "import pandas as pd \n",
    "\n",
    "import os\n",
    "DATA_PATH = './datas/'\n",
    "OUTPUT_FILE_PATH = '../main SQL/schemas/add_data.sql'"
   ]
  },
  {
   "cell_type": "code",
   "execution_count": null,
   "metadata": {},
   "outputs": [],
   "source": [
    "def read_and_convert(): \n",
    "    output_file = open(OUTPUT_FILE_PATH, 'w+')\n",
    "    \n",
    "    # Specify the directory you want to scan\n",
    "    folder_path = './datas'\n",
    "    table_names = []\n",
    "\n",
    "    # Iterate over all files in the folder\n",
    "    for filename in os.listdir(folder_path):\n",
    "        # Get the full path to the file\n",
    "        table_names.append(filename[:-4])\n",
    "        df = pd.read_csv(folder_path + '/' + filename, encoding='utf-8')\n",
    "        attributes = df.columns.tolist()\n",
    "        print(filename[:-4])\n",
    "        print(attributes) \n",
    "        output_file.writelines(f'INSERT INTO {filename[:-4]}({', '.join(attributes)}) VALUES\\n')\n",
    "        for row in df.iloc:\n",
    "            output_file.write(f'({', '.join(map(str,row.tolist()))})\\n')\n",
    "            # print((row.tolist()))\n",
    "        # file_path = os.path.join(folder_path, filename)\n",
    "        output_file.write('\\n') \n",
    "        # # Check if it's a file (not a subdirectory)\n",
    "        # if os.path.isfile(file_path):\n",
    "        #     print(file_path)\n",
    "    output_file.close()\n"
   ]
  },
  {
   "cell_type": "code",
   "execution_count": 49,
   "metadata": {},
   "outputs": [
    {
     "name": "stdout",
     "output_type": "stream",
     "text": [
      "mon_an\n",
      "['MaMon', 'TenMon', 'Gia', 'Loai']\n",
      "order_tai_cho\n",
      "['MaPhieu', 'SoBan']\n",
      "giao_hang\n",
      "['MaPhieu', 'ThoiDiemOnline', 'ThoiGianOnline']\n",
      "lich_su_lam_viec\n",
      "['MaNV', 'ChiNhanh', 'NgayBatDau', 'NgayKetThuc']\n",
      "khach_hang\n",
      "['CCCD ', 'HoTen ', 'SDT ', 'Email ', 'Phai ']\n",
      "mon_an_khu_vuc\n",
      "['MaKhuVuc', 'MaMon']\n",
      "bo_phan\n",
      "['TenBoPhan', 'MucLuong']\n",
      "order\n",
      "['MaPhieu', 'NgayDat', 'MaCN', 'NhanVienLap', 'CCCD']\n",
      "khu_vuc\n",
      "['TenKhuVuc']\n",
      "giam_gia\n",
      "['MaChuongTrinh ', 'LoaiThe ', 'UuDaiChietKhau ', 'GiamGia ', 'TangSP ']\n",
      "dien_thoai_nhan_vien\n",
      "['MaNV', 'DienThoai']\n",
      "dat_ban_online\n",
      "['MaPhieu', 'KhuVuc', 'SoLuongKhach', 'GioDen', 'GhiChu']\n",
      "chuong_trinh\n",
      "['MaChuongTrinh ', 'NgayBD ', 'NgayKT ']\n",
      "nhan_vien\n",
      "['MaNV', 'HoTen', 'SoNha', 'Duong', 'Quan', 'ThanhPho', 'NgaySinh', 'Phai', 'BoPhan', 'ChiNhanh']\n",
      "tham_gia_chuong_trinh\n",
      "['MaPhieu ', 'MaChuongTrinh ']\n",
      "chi_nhanh\n",
      "['TenCN', 'DiaChi', 'GioMo', 'GioDong', 'SDT', 'GiaoHang', 'XeMay', 'XeHoi', 'NVQuanLy', 'MaKhuVuc']\n"
     ]
    }
   ],
   "source": [
    "read_and_convert()"
   ]
  },
  {
   "cell_type": "code",
   "execution_count": null,
   "metadata": {},
   "outputs": [],
   "source": []
  }
 ],
 "metadata": {
  "kernelspec": {
   "display_name": "base",
   "language": "python",
   "name": "python3"
  },
  "language_info": {
   "codemirror_mode": {
    "name": "ipython",
    "version": 3
   },
   "file_extension": ".py",
   "mimetype": "text/x-python",
   "name": "python",
   "nbconvert_exporter": "python",
   "pygments_lexer": "ipython3",
   "version": "3.12.2"
  }
 },
 "nbformat": 4,
 "nbformat_minor": 2
}
