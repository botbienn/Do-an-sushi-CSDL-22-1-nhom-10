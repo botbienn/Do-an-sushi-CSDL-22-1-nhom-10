{
 "cells": [
  {
   "cell_type": "code",
   "execution_count": 19,
   "metadata": {},
   "outputs": [],
   "source": [
    "import pandas as pd \n",
    "\n",
    "import os\n",
    "DATA_PATH = './datas/'\n",
    "OUTPUT_FILE_PATH = '../main SQL/schemas/add_data.sql'\n",
    "FILE_ORDER = ['khach_hang', 'khu_vuc', 'bo_phan',\n",
    "              'chi_nhanh', 'nhan_vien', 'lich_su_lam_viec',\n",
    "              'dien_thoai_nhan_vien', 'mon_an', 'mon_an_khu_vuc', 'mon_an_chi_nhanh', 'order', 'order_tai_cho',\n",
    "              'dat_ban_online', 'giao_hang', 'ma_mon_phieu_dat', 'the', 'chuong_trinh', 'giam_gia',\n",
    "              'tham_gia_chuong_trinh', 'danh_gia']\n",
    "              "
   ]
  },
  {
   "cell_type": "code",
   "execution_count": 20,
   "metadata": {},
   "outputs": [],
   "source": [
    "def read_and_convert(): \n",
    "    output_file = open(OUTPUT_FILE_PATH, 'w+')\n",
    "    \n",
    "    # Specify the directory you want to scan\n",
    "    folder_path = './datas'\n",
    "    table_names = []\n",
    "\n",
    "    # Iterate over all files in the folder\n",
    "    for filename in FILE_ORDER:\n",
    "        # Get the full path to the file\n",
    "        table_names.append(filename)\n",
    "        df = pd.read_csv(folder_path + '/' + filename + '.csv', encoding='utf-8')\n",
    "        attributes = df.columns.tolist()\n",
    "        # print(filename[:-4])\n",
    "        # print(attributes) \n",
    "        if filename == 'order': \n",
    "            filename = '\\\"order\\\"'\n",
    "        output_file.writelines(f'INSERT INTO {filename}({', '.join(attributes)}) VALUES\\n')\n",
    "        for i, row in enumerate(df.iloc):\n",
    "            clean_row = [x if str(x) != 'nan' else '' for x in row.tolist() ]\n",
    "            # print(clean_row)\n",
    "            if i == len(df.index) - 1:\n",
    "                output_file.write(f'(N\\'{'\\', N\\''.join(map(str, clean_row))}\\')\\n')\n",
    "            else: \n",
    "                output_file.write(f'(N\\'{'\\', N\\''.join(map(str, clean_row))}\\'),\\n')\n",
    "            # print((row.tolist()))\n",
    "        # file_path = os.path.join(folder_path, filename)\n",
    "        output_file.write('\\n') \n",
    "        # # Check if it's a file (not a subdirectory)\n",
    "        # if os.path.isfile(file_path):\n",
    "        #     print(file_path)\n",
    "    output_file.close()\n"
   ]
  },
  {
   "cell_type": "code",
   "execution_count": 21,
   "metadata": {},
   "outputs": [],
   "source": [
    "read_and_convert()"
   ]
  },
  {
   "cell_type": "code",
   "execution_count": null,
   "metadata": {},
   "outputs": [],
   "source": []
  }
 ],
 "metadata": {
  "kernelspec": {
   "display_name": "base",
   "language": "python",
   "name": "python3"
  },
  "language_info": {
   "codemirror_mode": {
    "name": "ipython",
    "version": 3
   },
   "file_extension": ".py",
   "mimetype": "text/x-python",
   "name": "python",
   "nbconvert_exporter": "python",
   "pygments_lexer": "ipython3",
   "version": "3.12.2"
  }
 },
 "nbformat": 4,
 "nbformat_minor": 2
}
