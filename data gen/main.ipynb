{
 "cells": [
  {
   "cell_type": "code",
   "execution_count": 4,
   "metadata": {},
   "outputs": [],
   "source": [
    "import pandas as pd \n",
    "\n",
    "import os\n",
    "DATA_PATH = './datas/'\n",
    "OUTPUT_FILE_PATH = '../main SQL/schemas/add_data.sql'\n",
    "FILE_ORDER = ['khach_hang', 'khu_vuc', 'bo_phan',\n",
    "              'chi_nhanh', 'nhan_vien', 'lich_su_lam_viec',\n",
    "              'dien_thoai_nhan_vien', 'mon_an', 'mon_an_khu_vuc', 'order', 'order_tai_cho',\n",
    "              'dat_ban_online', 'giao_hang', 'ma_mon_phieu_dat',\n",
    "              'hoa_don', 'the', 'chuong_trinh', 'giam_gia',\n",
    "              'tham_gia_chuong_trinh', 'danh_gia']"
   ]
  },
  {
   "cell_type": "code",
   "execution_count": null,
   "metadata": {},
   "outputs": [],
   "source": [
    ",\n",
    "              'mon_an_chi_nhanh'"
   ]
  },
  {
   "cell_type": "code",
   "execution_count": 5,
   "metadata": {},
   "outputs": [],
   "source": [
    "def read_and_convert(): \n",
    "    output_file = open(OUTPUT_FILE_PATH, 'w+')\n",
    "    \n",
    "    # Specify the directory you want to scan\n",
    "    folder_path = './datas'\n",
    "    table_names = []\n",
    "\n",
    "    # Iterate over all files in the folder\n",
    "    for filename in FILE_ORDER:\n",
    "        # Get the full path to the file\n",
    "        table_names.append(filename)\n",
    "        df = pd.read_csv(folder_path + '/' + filename + '.csv', encoding='utf-8')\n",
    "        attributes = df.columns.tolist()\n",
    "        # print(filename[:-4])\n",
    "        # print(attributes) \n",
    "        output_file.writelines(f'INSERT INTO {filename}({', '.join(attributes)}) VALUES\\n')\n",
    "        for i, row in enumerate(df.iloc):\n",
    "            clean_row = [x if str(x) != 'nan' else '' for x in row.tolist() ]\n",
    "            print(clean_row)\n",
    "            if i == len(df.index) - 1:\n",
    "                output_file.write(f'(\\'{'\\', \\''.join(map(str,clean_row))}\\')\\n')\n",
    "            else: \n",
    "                output_file.write(f'(\\'{'\\', \\''.join(map(str, clean_row))}\\'),\\n')\n",
    "            # print((row.tolist()))\n",
    "        # file_path = os.path.join(folder_path, filename)\n",
    "        output_file.write('\\n') \n",
    "        # # Check if it's a file (not a subdirectory)\n",
    "        # if os.path.isfile(file_path):\n",
    "        #     print(file_path)\n",
    "    output_file.close()\n"
   ]
  },
  {
   "cell_type": "code",
   "execution_count": 6,
   "metadata": {},
   "outputs": [
    {
     "name": "stdout",
     "output_type": "stream",
     "text": [
      "[np.float64(111111000000.0), 'Nguyễn Văn A', np.int64(1111111111), 'danh@gmail.com', 'Nam']\n",
      "[np.float64(111111000000.0), 'Nguyễn Văn B', np.int64(1111111112), 'danh2@gmail.com', 'Nam']\n",
      "[np.float64(111111000000.0), 'Nguyễn Văn C', np.int64(1111111113), 'danh3@gmail.com', 'Nam']\n",
      "[np.float64(111111000000.0), 'Nguyễn Văn D', np.int64(1111111114), 'danh4@gmail.com', 'Nam']\n",
      "['Khu vuc 1']\n",
      "['Khu vuc 2']\n",
      "['Khu vuc 3']\n",
      "['Khu vuc 4']\n",
      "['Khu vuc 5']\n",
      "['Le tan', np.int64(8000000)]\n",
      "['Bep', np.int64(10000000)]\n",
      "['Phuc vu', np.int64(7000000)]\n",
      "['Ve sinh', np.int64(5000000)]\n",
      "['Quan ly', np.int64(15000000)]\n",
      "['Chi nhanh 1', '123 Duong A, Quan 1, TP.HCM', '8:00:00', '22:00:00', np.int64(281234567), np.int64(1), np.int64(1), np.int64(0), 'NV001', 'KV001']\n",
      "['Chi nhanh 2', '456 Duong B, Quan 2, TP.HCM', '9:00:00', '23:00:00', np.int64(282234567), np.int64(1), np.int64(1), np.int64(1), 'NV002', 'KV002']\n",
      "['Chi nhanh 3', '789 Duong C, Quan 3, TP.HCM', '7:30:00', '21:30:00', np.int64(283234567), np.int64(1), np.int64(0), np.int64(0), 'NV003', 'KV003']\n",
      "['Chi nhanh 4', '101 Duong D, Quan 4, TP.HCM', '8:00:00', '22:00:00', np.int64(284234567), np.int64(1), np.int64(1), np.int64(1), 'NV004', 'KV004']\n",
      "['Chi nhanh 5', '202 Duong E, Quan 5, TP.HCM', '8:30:00', '22:30:00', np.int64(285234567), np.int64(1), np.int64(1), np.int64(0), 'NV005', 'KV005']\n",
      "['NV001', 'Nguyen Van F', np.int64(123), 'Duong G', 'Quan 1', 'TP.HCM', '1990-01-01', 'Nam', 'BP005', 'CN001']\n",
      "['NV002', 'Le Thi H', np.int64(456), 'Duong H', 'Quan 2', 'TP.HCM', '1992-05-05', 'Nu', 'BP003', 'CN002']\n",
      "['NV003', 'Pham Van I', np.int64(789), 'Duong I', 'Quan 3', 'TP.HCM', '1994-09-09', 'Nam', 'BP002', 'CN003']\n",
      "['NV004', 'Tran Thi J', np.int64(101), 'Duong J', 'Quan 4', 'TP.HCM', '1996-12-12', 'Nu', 'BP004', 'CN004']\n",
      "['NV005', 'Ngo Van K', np.int64(202), 'Duong K', 'Quan 5', 'TP.HCM', '1988-08-08', 'Nam', 'BP001', 'CN005']\n",
      "['NV001', np.int64(1), '03/20/2023', '10/01/2024']\n",
      "['NV002', np.int64(2), '01/01/2021', '10/01/2023']\n",
      "['NV003', np.int64(3), '03/01/2022', '01/01/2024']\n",
      "['NV004', np.int64(4), '11/20/2020', '10/01/2022']\n",
      "['NV005', np.int64(5), '10/01/2021', '08/30/2023']\n",
      "['NV001', np.int64(355390893)]\n",
      "['NV002', np.int64(802212872)]\n",
      "['NV003', np.int64(325131893)]\n",
      "['NV004', np.int64(912021753)]\n",
      "['NV005', np.int64(832702306)]\n",
      "['MM001', 'Goi ngo sen tom thit', np.int64(120000), 'Mon khai vi']\n",
      "['MM002', 'Sup cua', np.int64(150000), 'Mon khai vi']\n",
      "['MM003', 'Cha gio', np.int64(70000), 'Mon khai vi']\n",
      "['MM004', 'Lau thai', np.int64(250000), 'Mon chinh']\n",
      "['MM005', 'Lau thai', np.int64(250000), 'Mon chinh']\n",
      "[np.int64(1), 'MA001']\n",
      "[np.int64(1), 'MA002']\n",
      "[np.int64(2), 'MA001']\n",
      "[np.int64(2), 'MA002']\n",
      "[np.int64(2), 'MA003']\n",
      "['MP001', '2024-04-20', np.int64(1), 'NV1', np.int64(123456789123)]\n",
      "['MP002', '2024-04-21', np.int64(1), 'NV1', np.int64(123456789124)]\n",
      "['MP003', '2024-04-22', np.int64(2), 'NV1', np.int64(123456789125)]\n",
      "['MP004', '2024-04-23', np.int64(2), 'NV1', np.int64(123456789126)]\n",
      "['MP005', '2024-04-24', np.int64(1), 'NV2', np.int64(123456789127)]\n",
      "['MP001', np.int64(1)]\n",
      "['MP002', np.int64(2)]\n",
      "['MP003', np.int64(3), np.int64(7), '15:00:00', 'Co the den tre']\n",
      "['MP004', np.int64(1), np.int64(8), '08:45:00', 'Co the den tre']\n",
      "['MP005', '09:34:00', '00:05:00']\n",
      "['MP001', 'MM001', np.int64(1), np.int64(0)]\n",
      "['MP001', 'MM002', np.int64(2), np.int64(0)]\n",
      "['MP002', 'MM002', np.int64(2), np.int64(0)]\n",
      "['MP002', 'MM004', np.int64(1), np.int64(0)]\n",
      "['MP003', 'MM005', np.int64(3), np.int64(0)]\n",
      "['MP004', 'MM001', np.int64(4), np.int64(0)]\n",
      "['MP005', 'MM003', np.int64(1), np.int64(0)]\n"
     ]
    },
    {
     "ename": "FileNotFoundError",
     "evalue": "[Errno 2] No such file or directory: './datas/hoa_don.csv'",
     "output_type": "error",
     "traceback": [
      "\u001b[0;31m---------------------------------------------------------------------------\u001b[0m",
      "\u001b[0;31mFileNotFoundError\u001b[0m                         Traceback (most recent call last)",
      "Cell \u001b[0;32mIn[6], line 1\u001b[0m\n\u001b[0;32m----> 1\u001b[0m \u001b[43mread_and_convert\u001b[49m\u001b[43m(\u001b[49m\u001b[43m)\u001b[49m\n",
      "Cell \u001b[0;32mIn[5], line 12\u001b[0m, in \u001b[0;36mread_and_convert\u001b[0;34m()\u001b[0m\n\u001b[1;32m      9\u001b[0m \u001b[38;5;28;01mfor\u001b[39;00m filename \u001b[38;5;129;01min\u001b[39;00m FILE_ORDER:\n\u001b[1;32m     10\u001b[0m     \u001b[38;5;66;03m# Get the full path to the file\u001b[39;00m\n\u001b[1;32m     11\u001b[0m     table_names\u001b[38;5;241m.\u001b[39mappend(filename)\n\u001b[0;32m---> 12\u001b[0m     df \u001b[38;5;241m=\u001b[39m \u001b[43mpd\u001b[49m\u001b[38;5;241;43m.\u001b[39;49m\u001b[43mread_csv\u001b[49m\u001b[43m(\u001b[49m\u001b[43mfolder_path\u001b[49m\u001b[43m \u001b[49m\u001b[38;5;241;43m+\u001b[39;49m\u001b[43m \u001b[49m\u001b[38;5;124;43m'\u001b[39;49m\u001b[38;5;124;43m/\u001b[39;49m\u001b[38;5;124;43m'\u001b[39;49m\u001b[43m \u001b[49m\u001b[38;5;241;43m+\u001b[39;49m\u001b[43m \u001b[49m\u001b[43mfilename\u001b[49m\u001b[43m \u001b[49m\u001b[38;5;241;43m+\u001b[39;49m\u001b[43m \u001b[49m\u001b[38;5;124;43m'\u001b[39;49m\u001b[38;5;124;43m.csv\u001b[39;49m\u001b[38;5;124;43m'\u001b[39;49m\u001b[43m,\u001b[49m\u001b[43m \u001b[49m\u001b[43mencoding\u001b[49m\u001b[38;5;241;43m=\u001b[39;49m\u001b[38;5;124;43m'\u001b[39;49m\u001b[38;5;124;43mutf-8\u001b[39;49m\u001b[38;5;124;43m'\u001b[39;49m\u001b[43m)\u001b[49m\n\u001b[1;32m     13\u001b[0m     attributes \u001b[38;5;241m=\u001b[39m df\u001b[38;5;241m.\u001b[39mcolumns\u001b[38;5;241m.\u001b[39mtolist()\n\u001b[1;32m     14\u001b[0m     \u001b[38;5;66;03m# print(filename[:-4])\u001b[39;00m\n\u001b[1;32m     15\u001b[0m     \u001b[38;5;66;03m# print(attributes) \u001b[39;00m\n",
      "File \u001b[0;32m~/miniconda3/lib/python3.12/site-packages/pandas/io/parsers/readers.py:1026\u001b[0m, in \u001b[0;36mread_csv\u001b[0;34m(filepath_or_buffer, sep, delimiter, header, names, index_col, usecols, dtype, engine, converters, true_values, false_values, skipinitialspace, skiprows, skipfooter, nrows, na_values, keep_default_na, na_filter, verbose, skip_blank_lines, parse_dates, infer_datetime_format, keep_date_col, date_parser, date_format, dayfirst, cache_dates, iterator, chunksize, compression, thousands, decimal, lineterminator, quotechar, quoting, doublequote, escapechar, comment, encoding, encoding_errors, dialect, on_bad_lines, delim_whitespace, low_memory, memory_map, float_precision, storage_options, dtype_backend)\u001b[0m\n\u001b[1;32m   1013\u001b[0m kwds_defaults \u001b[38;5;241m=\u001b[39m _refine_defaults_read(\n\u001b[1;32m   1014\u001b[0m     dialect,\n\u001b[1;32m   1015\u001b[0m     delimiter,\n\u001b[0;32m   (...)\u001b[0m\n\u001b[1;32m   1022\u001b[0m     dtype_backend\u001b[38;5;241m=\u001b[39mdtype_backend,\n\u001b[1;32m   1023\u001b[0m )\n\u001b[1;32m   1024\u001b[0m kwds\u001b[38;5;241m.\u001b[39mupdate(kwds_defaults)\n\u001b[0;32m-> 1026\u001b[0m \u001b[38;5;28;01mreturn\u001b[39;00m \u001b[43m_read\u001b[49m\u001b[43m(\u001b[49m\u001b[43mfilepath_or_buffer\u001b[49m\u001b[43m,\u001b[49m\u001b[43m \u001b[49m\u001b[43mkwds\u001b[49m\u001b[43m)\u001b[49m\n",
      "File \u001b[0;32m~/miniconda3/lib/python3.12/site-packages/pandas/io/parsers/readers.py:620\u001b[0m, in \u001b[0;36m_read\u001b[0;34m(filepath_or_buffer, kwds)\u001b[0m\n\u001b[1;32m    617\u001b[0m _validate_names(kwds\u001b[38;5;241m.\u001b[39mget(\u001b[38;5;124m\"\u001b[39m\u001b[38;5;124mnames\u001b[39m\u001b[38;5;124m\"\u001b[39m, \u001b[38;5;28;01mNone\u001b[39;00m))\n\u001b[1;32m    619\u001b[0m \u001b[38;5;66;03m# Create the parser.\u001b[39;00m\n\u001b[0;32m--> 620\u001b[0m parser \u001b[38;5;241m=\u001b[39m \u001b[43mTextFileReader\u001b[49m\u001b[43m(\u001b[49m\u001b[43mfilepath_or_buffer\u001b[49m\u001b[43m,\u001b[49m\u001b[43m \u001b[49m\u001b[38;5;241;43m*\u001b[39;49m\u001b[38;5;241;43m*\u001b[39;49m\u001b[43mkwds\u001b[49m\u001b[43m)\u001b[49m\n\u001b[1;32m    622\u001b[0m \u001b[38;5;28;01mif\u001b[39;00m chunksize \u001b[38;5;129;01mor\u001b[39;00m iterator:\n\u001b[1;32m    623\u001b[0m     \u001b[38;5;28;01mreturn\u001b[39;00m parser\n",
      "File \u001b[0;32m~/miniconda3/lib/python3.12/site-packages/pandas/io/parsers/readers.py:1620\u001b[0m, in \u001b[0;36mTextFileReader.__init__\u001b[0;34m(self, f, engine, **kwds)\u001b[0m\n\u001b[1;32m   1617\u001b[0m     \u001b[38;5;28mself\u001b[39m\u001b[38;5;241m.\u001b[39moptions[\u001b[38;5;124m\"\u001b[39m\u001b[38;5;124mhas_index_names\u001b[39m\u001b[38;5;124m\"\u001b[39m] \u001b[38;5;241m=\u001b[39m kwds[\u001b[38;5;124m\"\u001b[39m\u001b[38;5;124mhas_index_names\u001b[39m\u001b[38;5;124m\"\u001b[39m]\n\u001b[1;32m   1619\u001b[0m \u001b[38;5;28mself\u001b[39m\u001b[38;5;241m.\u001b[39mhandles: IOHandles \u001b[38;5;241m|\u001b[39m \u001b[38;5;28;01mNone\u001b[39;00m \u001b[38;5;241m=\u001b[39m \u001b[38;5;28;01mNone\u001b[39;00m\n\u001b[0;32m-> 1620\u001b[0m \u001b[38;5;28mself\u001b[39m\u001b[38;5;241m.\u001b[39m_engine \u001b[38;5;241m=\u001b[39m \u001b[38;5;28;43mself\u001b[39;49m\u001b[38;5;241;43m.\u001b[39;49m\u001b[43m_make_engine\u001b[49m\u001b[43m(\u001b[49m\u001b[43mf\u001b[49m\u001b[43m,\u001b[49m\u001b[43m \u001b[49m\u001b[38;5;28;43mself\u001b[39;49m\u001b[38;5;241;43m.\u001b[39;49m\u001b[43mengine\u001b[49m\u001b[43m)\u001b[49m\n",
      "File \u001b[0;32m~/miniconda3/lib/python3.12/site-packages/pandas/io/parsers/readers.py:1880\u001b[0m, in \u001b[0;36mTextFileReader._make_engine\u001b[0;34m(self, f, engine)\u001b[0m\n\u001b[1;32m   1878\u001b[0m     \u001b[38;5;28;01mif\u001b[39;00m \u001b[38;5;124m\"\u001b[39m\u001b[38;5;124mb\u001b[39m\u001b[38;5;124m\"\u001b[39m \u001b[38;5;129;01mnot\u001b[39;00m \u001b[38;5;129;01min\u001b[39;00m mode:\n\u001b[1;32m   1879\u001b[0m         mode \u001b[38;5;241m+\u001b[39m\u001b[38;5;241m=\u001b[39m \u001b[38;5;124m\"\u001b[39m\u001b[38;5;124mb\u001b[39m\u001b[38;5;124m\"\u001b[39m\n\u001b[0;32m-> 1880\u001b[0m \u001b[38;5;28mself\u001b[39m\u001b[38;5;241m.\u001b[39mhandles \u001b[38;5;241m=\u001b[39m \u001b[43mget_handle\u001b[49m\u001b[43m(\u001b[49m\n\u001b[1;32m   1881\u001b[0m \u001b[43m    \u001b[49m\u001b[43mf\u001b[49m\u001b[43m,\u001b[49m\n\u001b[1;32m   1882\u001b[0m \u001b[43m    \u001b[49m\u001b[43mmode\u001b[49m\u001b[43m,\u001b[49m\n\u001b[1;32m   1883\u001b[0m \u001b[43m    \u001b[49m\u001b[43mencoding\u001b[49m\u001b[38;5;241;43m=\u001b[39;49m\u001b[38;5;28;43mself\u001b[39;49m\u001b[38;5;241;43m.\u001b[39;49m\u001b[43moptions\u001b[49m\u001b[38;5;241;43m.\u001b[39;49m\u001b[43mget\u001b[49m\u001b[43m(\u001b[49m\u001b[38;5;124;43m\"\u001b[39;49m\u001b[38;5;124;43mencoding\u001b[39;49m\u001b[38;5;124;43m\"\u001b[39;49m\u001b[43m,\u001b[49m\u001b[43m \u001b[49m\u001b[38;5;28;43;01mNone\u001b[39;49;00m\u001b[43m)\u001b[49m\u001b[43m,\u001b[49m\n\u001b[1;32m   1884\u001b[0m \u001b[43m    \u001b[49m\u001b[43mcompression\u001b[49m\u001b[38;5;241;43m=\u001b[39;49m\u001b[38;5;28;43mself\u001b[39;49m\u001b[38;5;241;43m.\u001b[39;49m\u001b[43moptions\u001b[49m\u001b[38;5;241;43m.\u001b[39;49m\u001b[43mget\u001b[49m\u001b[43m(\u001b[49m\u001b[38;5;124;43m\"\u001b[39;49m\u001b[38;5;124;43mcompression\u001b[39;49m\u001b[38;5;124;43m\"\u001b[39;49m\u001b[43m,\u001b[49m\u001b[43m \u001b[49m\u001b[38;5;28;43;01mNone\u001b[39;49;00m\u001b[43m)\u001b[49m\u001b[43m,\u001b[49m\n\u001b[1;32m   1885\u001b[0m \u001b[43m    \u001b[49m\u001b[43mmemory_map\u001b[49m\u001b[38;5;241;43m=\u001b[39;49m\u001b[38;5;28;43mself\u001b[39;49m\u001b[38;5;241;43m.\u001b[39;49m\u001b[43moptions\u001b[49m\u001b[38;5;241;43m.\u001b[39;49m\u001b[43mget\u001b[49m\u001b[43m(\u001b[49m\u001b[38;5;124;43m\"\u001b[39;49m\u001b[38;5;124;43mmemory_map\u001b[39;49m\u001b[38;5;124;43m\"\u001b[39;49m\u001b[43m,\u001b[49m\u001b[43m \u001b[49m\u001b[38;5;28;43;01mFalse\u001b[39;49;00m\u001b[43m)\u001b[49m\u001b[43m,\u001b[49m\n\u001b[1;32m   1886\u001b[0m \u001b[43m    \u001b[49m\u001b[43mis_text\u001b[49m\u001b[38;5;241;43m=\u001b[39;49m\u001b[43mis_text\u001b[49m\u001b[43m,\u001b[49m\n\u001b[1;32m   1887\u001b[0m \u001b[43m    \u001b[49m\u001b[43merrors\u001b[49m\u001b[38;5;241;43m=\u001b[39;49m\u001b[38;5;28;43mself\u001b[39;49m\u001b[38;5;241;43m.\u001b[39;49m\u001b[43moptions\u001b[49m\u001b[38;5;241;43m.\u001b[39;49m\u001b[43mget\u001b[49m\u001b[43m(\u001b[49m\u001b[38;5;124;43m\"\u001b[39;49m\u001b[38;5;124;43mencoding_errors\u001b[39;49m\u001b[38;5;124;43m\"\u001b[39;49m\u001b[43m,\u001b[49m\u001b[43m \u001b[49m\u001b[38;5;124;43m\"\u001b[39;49m\u001b[38;5;124;43mstrict\u001b[39;49m\u001b[38;5;124;43m\"\u001b[39;49m\u001b[43m)\u001b[49m\u001b[43m,\u001b[49m\n\u001b[1;32m   1888\u001b[0m \u001b[43m    \u001b[49m\u001b[43mstorage_options\u001b[49m\u001b[38;5;241;43m=\u001b[39;49m\u001b[38;5;28;43mself\u001b[39;49m\u001b[38;5;241;43m.\u001b[39;49m\u001b[43moptions\u001b[49m\u001b[38;5;241;43m.\u001b[39;49m\u001b[43mget\u001b[49m\u001b[43m(\u001b[49m\u001b[38;5;124;43m\"\u001b[39;49m\u001b[38;5;124;43mstorage_options\u001b[39;49m\u001b[38;5;124;43m\"\u001b[39;49m\u001b[43m,\u001b[49m\u001b[43m \u001b[49m\u001b[38;5;28;43;01mNone\u001b[39;49;00m\u001b[43m)\u001b[49m\u001b[43m,\u001b[49m\n\u001b[1;32m   1889\u001b[0m \u001b[43m\u001b[49m\u001b[43m)\u001b[49m\n\u001b[1;32m   1890\u001b[0m \u001b[38;5;28;01massert\u001b[39;00m \u001b[38;5;28mself\u001b[39m\u001b[38;5;241m.\u001b[39mhandles \u001b[38;5;129;01mis\u001b[39;00m \u001b[38;5;129;01mnot\u001b[39;00m \u001b[38;5;28;01mNone\u001b[39;00m\n\u001b[1;32m   1891\u001b[0m f \u001b[38;5;241m=\u001b[39m \u001b[38;5;28mself\u001b[39m\u001b[38;5;241m.\u001b[39mhandles\u001b[38;5;241m.\u001b[39mhandle\n",
      "File \u001b[0;32m~/miniconda3/lib/python3.12/site-packages/pandas/io/common.py:882\u001b[0m, in \u001b[0;36mget_handle\u001b[0;34m(path_or_buf, mode, encoding, compression, memory_map, is_text, errors, storage_options)\u001b[0m\n\u001b[1;32m    873\u001b[0m         handle \u001b[38;5;241m=\u001b[39m \u001b[38;5;28mopen\u001b[39m(\n\u001b[1;32m    874\u001b[0m             handle,\n\u001b[1;32m    875\u001b[0m             ioargs\u001b[38;5;241m.\u001b[39mmode,\n\u001b[0;32m   (...)\u001b[0m\n\u001b[1;32m    878\u001b[0m             newline\u001b[38;5;241m=\u001b[39m\u001b[38;5;124m\"\u001b[39m\u001b[38;5;124m\"\u001b[39m,\n\u001b[1;32m    879\u001b[0m         )\n\u001b[1;32m    880\u001b[0m     \u001b[38;5;28;01melse\u001b[39;00m:\n\u001b[1;32m    881\u001b[0m         \u001b[38;5;66;03m# Binary mode\u001b[39;00m\n\u001b[0;32m--> 882\u001b[0m         handle \u001b[38;5;241m=\u001b[39m \u001b[38;5;28;43mopen\u001b[39;49m\u001b[43m(\u001b[49m\u001b[43mhandle\u001b[49m\u001b[43m,\u001b[49m\u001b[43m \u001b[49m\u001b[43mioargs\u001b[49m\u001b[38;5;241;43m.\u001b[39;49m\u001b[43mmode\u001b[49m\u001b[43m)\u001b[49m\n\u001b[1;32m    883\u001b[0m     handles\u001b[38;5;241m.\u001b[39mappend(handle)\n\u001b[1;32m    885\u001b[0m \u001b[38;5;66;03m# Convert BytesIO or file objects passed with an encoding\u001b[39;00m\n",
      "\u001b[0;31mFileNotFoundError\u001b[0m: [Errno 2] No such file or directory: './datas/hoa_don.csv'"
     ]
    }
   ],
   "source": [
    "read_and_convert()"
   ]
  },
  {
   "cell_type": "code",
   "execution_count": null,
   "metadata": {},
   "outputs": [],
   "source": []
  }
 ],
 "metadata": {
  "kernelspec": {
   "display_name": "base",
   "language": "python",
   "name": "python3"
  },
  "language_info": {
   "codemirror_mode": {
    "name": "ipython",
    "version": 3
   },
   "file_extension": ".py",
   "mimetype": "text/x-python",
   "name": "python",
   "nbconvert_exporter": "python",
   "pygments_lexer": "ipython3",
   "version": "3.12.2"
  }
 },
 "nbformat": 4,
 "nbformat_minor": 2
}
