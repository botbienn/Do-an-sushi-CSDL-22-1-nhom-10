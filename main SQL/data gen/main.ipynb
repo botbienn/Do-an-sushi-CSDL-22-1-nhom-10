{
 "cells": [
  {
   "cell_type": "code",
   "execution_count": 46,
   "metadata": {},
   "outputs": [],
   "source": [
    "import pandas as pd \n",
    "\n",
    "DATA_PATH = './datas/'\n",
    "OUTPUT_FILE_PATH = '../main SQL/schemas/add_data.sql'\n",
    "FILE_ORDER = ['khach_hang', 'khu_vuc', 'bo_phan',\n",
    "              'chi_nhanh', 'nhan_vien', 'lich_su_lam_viec',\n",
    "              'dien_thoai_nhan_vien', 'mon_an', 'mon_an_khu_vuc', 'mon_an_chi_nhanh', 'order', 'order_tai_cho',\n",
    "              'dat_ban_online', 'giao_hang', 'ma_mon_phieu_dat', 'the', 'chuong_trinh', 'giam_gia',\n",
    "              'tham_gia_chuong_trinh', 'danh_gia']"
   ]
  },
  {
   "cell_type": "code",
   "execution_count": null,
   "metadata": {},
   "outputs": [],
   "source": []
  },
  {
   "cell_type": "code",
   "execution_count": 47,
   "metadata": {
    "lines_to_next_cell": 2
   },
   "outputs": [],
   "source": [
    "def read_and_convert(): \n",
    "    output_file = open(OUTPUT_FILE_PATH, 'w+')\n",
    "    \n",
    "    # Specify the directory you want to scan\n",
    "    folder_path = './datas'\n",
    "    table_names = []\n",
    "\n",
    "    # Iterate over all files in the folder\n",
    "    for filename in FILE_ORDER:\n",
    "        # Get the full path to the file\n",
    "        table_names.append(filename)\n",
    "        df = pd.read_csv(folder_path + '/' + filename + '.csv', encoding='utf-8')\n",
    "\n",
    "        # special files \n",
    "        if filename == 'order': \n",
    "            filename = '\\\"order\\\"'\n",
    "\n",
    "        if filename == 'chi_nhanh': \n",
    "            df.drop('NVQuanLy', axis = 1, inplace=True)\n",
    "\n",
    "        # Get attributes names \n",
    "        attributes = df.columns.tolist()\n",
    "\n",
    "        # main file content\n",
    "        output_file.writelines(f'INSERT INTO {filename}({', '.join(attributes)}) VALUES\\n')\n",
    "\n",
    "        for i, row in enumerate(df.iloc):\n",
    "            clean_row = [x if str(x) != 'nan' else '' for x in row.tolist()]\n",
    "\n",
    "            if i == len(df.index) - 1:\n",
    "                output_file.write(f'(N\\'{'\\', N\\''.join(map(str, clean_row))}\\')\\n')\n",
    "            else: \n",
    "                output_file.write(f'(N\\'{'\\', N\\''.join(map(str, clean_row))}\\'),\\n')\n",
    "\n",
    "        # alter table because loop foreign key\n",
    "        if filename == 'nhan_vien': \n",
    "            chi_nhanh_df = pd.read_csv(folder_path + '/chi_nhanh.csv', encoding='utf-8')\n",
    "\n",
    "            nv_col = chi_nhanh_df['NVQuanLy'].tolist()\n",
    "            nv_col = [x if str(x) != 'nan' else '' for x in nv_col]\n",
    "\n",
    "            output_arr = [f'WHEN {i + 1} THEN \\'{val}\\'' for i, val in enumerate(nv_col)]\n",
    "            output_str = '\\n'.join(map(str, output_arr))\n",
    "            where_str = ','.join(map(str, [i + 1 for i in range(len(nv_col))]))\n",
    "\n",
    "            output_file.write('\\n')\n",
    "            output_file.writelines('UPDATE chi_nhanh\\n')\n",
    "            output_file.write('SET NVQuanLy = CASE MaCN\\n')\n",
    "            output_file.write(output_str)\n",
    "            output_file.write('END\\n')\n",
    "            output_file.write(f'WHERE MaCN IN({where_str});')\n",
    "            output_file.write('\\n\\n')\n",
    "            output_file.write('ALTER TABLE chi_nhanh ADD CONSTRAINT FK_chinhanh_nhanvien FOREIGN KEY(NVQuanLy) REFERENCES nhan_vien(MaNV);')\n",
    "            output_file.write('\\n')\n",
    "\n",
    "\n",
    "\n",
    "\n",
    "        output_file.write('\\n') \n",
    "\n",
    "    output_file.close()"
   ]
  },
  {
   "cell_type": "code",
   "execution_count": 48,
   "metadata": {},
   "outputs": [],
   "source": [
    "read_and_convert()"
   ]
  },
  {
   "cell_type": "code",
   "execution_count": null,
   "metadata": {},
   "outputs": [],
   "source": []
  }
 ],
 "metadata": {
  "kernelspec": {
   "display_name": "base",
   "language": "python",
   "name": "python3"
  },
  "language_info": {
   "codemirror_mode": {
    "name": "ipython",
    "version": 3
   },
   "file_extension": ".py",
   "mimetype": "text/x-python",
   "name": "python",
   "nbconvert_exporter": "python",
   "pygments_lexer": "ipython3",
   "version": "3.12.2"
  }
 },
 "nbformat": 4,
 "nbformat_minor": 2
}
